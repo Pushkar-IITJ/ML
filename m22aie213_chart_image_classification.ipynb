{
 "cells": [
  {
   "cell_type": "markdown",
   "id": "d85bcf3b",
   "metadata": {},
   "source": [
    "# Task 1: \n",
    "### Download the dataset from drive link. Use the train and val images for training and validation in an appropriate ratio (e.g., 80% for training and 20 % for validating)."
   ]
  },
  {
   "cell_type": "code",
   "execution_count": 22,
   "id": "87baf156",
   "metadata": {},
   "outputs": [
    {
     "name": "stdout",
     "output_type": "stream",
     "text": [
      "Found 800 validated image filenames belonging to 5 classes.\n",
      "Found 200 validated image filenames belonging to 5 classes.\n"
     ]
    }
   ],
   "source": [
    "import os\n",
    "import pandas as pd\n",
    "import numpy as np\n",
    "import tensorflow as tf\n",
    "from tensorflow.keras.preprocessing.image import ImageDataGenerator\n",
    "\n",
    "project_dir = r'C:\\Users\\DELL\\All Files\\Personal\\Machine Learning\\Fractal 3\\charts\\charts'\n",
    "csv_file = 'train_val.csv'\n",
    "\n",
    "# load the csv file\n",
    "df = pd.read_csv(f'{project_dir}\\\\{csv_file}')\n",
    "df['image_index']=df['image_index'].astype(str)\n",
    "df['image_index']=df['image_index'].apply(lambda x:x+'.png')\n",
    "# define the path to the image folders\n",
    "train_path = r'C:\\Users\\DELL\\All Files\\Personal\\Machine Learning\\Fractal 3\\charts\\charts\\train_val'\n",
    "test_path = r'C:\\Users\\DELL\\All Files\\Personal\\Machine Learning\\Fractal 3\\charts\\charts\\test'\n",
    "\n",
    "# split the data into training and validation sets\n",
    "train_df = df.sample(frac=0.8,random_state=42)\n",
    "val_df = df.drop(train_df.index)\n",
    "\n",
    "# create data generators for training and validation\n",
    "train_datagen = ImageDataGenerator(rescale=1./255)\n",
    "train_generator = train_datagen.flow_from_dataframe(\n",
    "        dataframe=train_df,\n",
    "        directory=train_path,\n",
    "        x_col=\"image_index\",\n",
    "        y_col=\"type\",\n",
    "        target_size=(224, 224),\n",
    "        batch_size=32,\n",
    "        class_mode='categorical')\n",
    "\n",
    "val_datagen = ImageDataGenerator(rescale=1./255)\n",
    "val_generator = val_datagen.flow_from_dataframe(\n",
    "        dataframe=val_df,\n",
    "        directory=train_path,\n",
    "        x_col=\"image_index\",\n",
    "        y_col=\"type\",\n",
    "        target_size=(224, 224),\n",
    "        batch_size=32,\n",
    "        class_mode='categorical')\n"
   ]
  },
  {
   "cell_type": "markdown",
   "id": "35663104",
   "metadata": {},
   "source": [
    "# Task 2:\n",
    "### Implement a two-layer Convolutional Neural Network, and calculate accuracy, and loss and plot the obtained loss."
   ]
  },
  {
   "cell_type": "code",
   "execution_count": 23,
   "id": "8367dd72",
   "metadata": {},
   "outputs": [
    {
     "name": "stderr",
     "output_type": "stream",
     "text": [
      "C:\\Users\\DELL\\AppData\\Local\\Temp\\ipykernel_1584\\919783486.py:20: UserWarning: `Model.fit_generator` is deprecated and will be removed in a future version. Please use `Model.fit`, which supports generators.\n",
      "  history = model.fit_generator(\n"
     ]
    },
    {
     "name": "stdout",
     "output_type": "stream",
     "text": [
      "Epoch 1/10\n",
      "25/25 [==============================] - 26s 1s/step - loss: 2.9216 - accuracy: 0.4575 - val_loss: 0.4904 - val_accuracy: 0.7150\n",
      "Epoch 2/10\n",
      "25/25 [==============================] - 20s 780ms/step - loss: 0.3426 - accuracy: 0.8550 - val_loss: 0.3317 - val_accuracy: 0.9050\n",
      "Epoch 3/10\n",
      "25/25 [==============================] - 20s 797ms/step - loss: 0.1765 - accuracy: 0.9287 - val_loss: 0.2658 - val_accuracy: 0.9300\n",
      "Epoch 4/10\n",
      "25/25 [==============================] - 20s 813ms/step - loss: 0.1062 - accuracy: 0.9725 - val_loss: 0.2368 - val_accuracy: 0.9500\n",
      "Epoch 5/10\n",
      "25/25 [==============================] - 20s 787ms/step - loss: 0.1345 - accuracy: 0.9638 - val_loss: 0.2848 - val_accuracy: 0.9450\n",
      "Epoch 6/10\n",
      "25/25 [==============================] - 20s 797ms/step - loss: 0.0616 - accuracy: 0.9837 - val_loss: 0.3021 - val_accuracy: 0.9450\n",
      "Epoch 7/10\n",
      "25/25 [==============================] - 20s 796ms/step - loss: 0.0209 - accuracy: 0.9962 - val_loss: 0.3080 - val_accuracy: 0.9500\n",
      "Epoch 8/10\n",
      "25/25 [==============================] - 20s 793ms/step - loss: 0.0100 - accuracy: 0.9987 - val_loss: 0.2976 - val_accuracy: 0.9550\n",
      "Epoch 9/10\n",
      "25/25 [==============================] - 20s 788ms/step - loss: 0.0056 - accuracy: 1.0000 - val_loss: 0.3018 - val_accuracy: 0.9450\n",
      "Epoch 10/10\n",
      "25/25 [==============================] - 20s 793ms/step - loss: 0.0018 - accuracy: 1.0000 - val_loss: 0.2659 - val_accuracy: 0.9450\n"
     ]
    },
    {
     "data": {
      "image/png": "[encoded data removed]",
      "text/plain": [
       "<Figure size 640x480 with 1 Axes>"
      ]
     },
     "metadata": {},
     "output_type": "display_data"
    }
   ],
   "source": [
    "from tensorflow.keras.models import Sequential\n",
    "from tensorflow.keras.layers import Conv2D, MaxPooling2D, Flatten, Dense\n",
    "\n",
    "# define the model\n",
    "model = Sequential()\n",
    "model.add(Conv2D(32, (3, 3), activation='relu', input_shape=(224, 224, 3)))\n",
    "model.add(MaxPooling2D((2, 2)))\n",
    "model.add(Conv2D(64, (3, 3), activation='relu'))\n",
    "model.add(MaxPooling2D((2, 2)))\n",
    "model.add(Flatten())\n",
    "model.add(Dense(64, activation='relu'))\n",
    "model.add(Dense(5, activation='softmax'))\n",
    "\n",
    "# compile the model\n",
    "model.compile(loss='categorical_crossentropy',\n",
    "              optimizer='adam',\n",
    "              metrics=['accuracy'])\n",
    "\n",
    "# train the model\n",
    "history = model.fit_generator(\n",
    "        train_generator,\n",
    "        steps_per_epoch=len(train_generator),\n",
    "        epochs=10,\n",
    "        validation_data=val_generator,\n",
    "        validation_steps=len(val_generator))\n",
    "\n",
    "# plot the loss\n",
    "import matplotlib.pyplot as plt\n",
    "plt.plot(history.history['loss'], label='train')\n",
    "plt.plot(history.history['val_loss'], label='val')\n",
    "plt.legend()\n",
    "plt.show()\n"
   ]
  },
  {
   "cell_type": "markdown",
   "id": "d7c98285",
   "metadata": {},
   "source": [
    "# Task 3: \n",
    "### Finetune a pretrained network (e.g., AlexNet) for this task."
   ]
  },
  {
   "cell_type": "code",
   "execution_count": 25,
   "id": "69e364b5",
   "metadata": {
    "scrolled": true
   },
   "outputs": [
    {
     "name": "stdout",
     "output_type": "stream",
     "text": [
      "Downloading data from https://storage.googleapis.com/tensorflow/keras-applications/resnet/resnet50_weights_tf_dim_ordering_tf_kernels_notop.h5\n",
      "94765736/94765736 [==============================] - 56s 1us/step\n"
     ]
    },
    {
     "name": "stderr",
     "output_type": "stream",
     "text": [
      "WARNING:absl:`lr` is deprecated, please use `learning_rate` instead, or use the legacy optimizer, e.g.,tf.keras.optimizers.legacy.Adam.\n"
     ]
    },
    {
     "name": "stdout",
     "output_type": "stream",
     "text": [
      "Epoch 1/10\n",
      "25/25 [==============================] - 60s 2s/step - loss: 5.9760 - accuracy: 0.4762 - val_loss: 0.4817 - val_accuracy: 0.9150\n",
      "Epoch 2/10\n",
      "25/25 [==============================] - 64s 3s/step - loss: 0.4981 - accuracy: 0.7962 - val_loss: 0.3143 - val_accuracy: 0.8650\n",
      "Epoch 3/10\n",
      "25/25 [==============================] - 63s 3s/step - loss: 0.2801 - accuracy: 0.9087 - val_loss: 0.1999 - val_accuracy: 0.9450\n",
      "Epoch 4/10\n",
      "25/25 [==============================] - 64s 3s/step - loss: 0.2368 - accuracy: 0.9225 - val_loss: 0.2600 - val_accuracy: 0.9050\n",
      "Epoch 5/10\n",
      "25/25 [==============================] - 82s 3s/step - loss: 0.2072 - accuracy: 0.9463 - val_loss: 0.1269 - val_accuracy: 0.9900\n",
      "Epoch 6/10\n",
      "25/25 [==============================] - 66s 3s/step - loss: 0.1389 - accuracy: 0.9712 - val_loss: 0.0965 - val_accuracy: 0.9900\n",
      "Epoch 7/10\n",
      "25/25 [==============================] - 63s 3s/step - loss: 0.1530 - accuracy: 0.9550 - val_loss: 0.1078 - val_accuracy: 0.9800\n",
      "Epoch 8/10\n",
      "25/25 [==============================] - 65s 3s/step - loss: 0.1426 - accuracy: 0.9625 - val_loss: 0.1488 - val_accuracy: 0.9550\n",
      "Epoch 9/10\n",
      "25/25 [==============================] - 64s 3s/step - loss: 0.1343 - accuracy: 0.9538 - val_loss: 0.0922 - val_accuracy: 0.9750\n",
      "Epoch 10/10\n",
      "25/25 [==============================] - 76s 3s/step - loss: 0.1116 - accuracy: 0.9688 - val_loss: 0.0825 - val_accuracy: 0.9800\n"
     ]
    },
    {
     "data": {
      "image/png": "[encoded data removed]",
      "text/plain": [
       "<Figure size 640x480 with 1 Axes>"
      ]
     },
     "metadata": {},
     "output_type": "display_data"
    }
   ],
   "source": [
    "from tensorflow.keras.applications.resnet50 import ResNet50\n",
    "from tensorflow.keras.optimizers import Adam\n",
    "\n",
    "# load the pre-trained model\n",
    "base_model = ResNet50(weights='imagenet', include_top=False, input_shape=(224, 224, 3))\n",
    "\n",
    "# add our own classifier on top\n",
    "model = Sequential()\n",
    "model.add(base_model)\n",
    "model.add(Flatten())\n",
    "model.add(Dense(256, activation='relu'))\n",
    "model.add(Dense(5, activation='softmax'))\n",
    "\n",
    "# freeze the pre-trained layers\n",
    "for layer in base_model.layers:\n",
    "    layer.trainable = False\n",
    "\n",
    "# compile the model\n",
    "model.compile(loss='categorical_crossentropy',\n",
    "              optimizer=Adam(lr=0.001),\n",
    "              metrics=['accuracy'])\n",
    "\n",
    "# train the model\n",
    "history = model.fit(\n",
    "        train_generator,\n",
    "        steps_per_epoch=len(train_generator),\n",
    "        epochs=10,\n",
    "        validation_data=val_generator,\n",
    "        validation_steps=len(val_generator))\n",
    "\n",
    "# plot the loss\n",
    "import matplotlib.pyplot as plt\n",
    "\n",
    "plt.plot(history.history['loss'], label='train')\n",
    "plt.plot(history.history['val_loss'], label='val')\n",
    "plt.legend()\n",
    "plt.show()"
   ]
  },
  {
   "cell_type": "markdown",
   "id": "2466c19c",
   "metadata": {},
   "source": [
    "#### Note: The observations and reports are written and uploaded in pdf file in GC."
   ]
  }
 ],
 "metadata": {
  "kernelspec": {
   "display_name": "Python 3 (ipykernel)",
   "language": "python",
   "name": "python3"
  },
  "language_info": {
   "codemirror_mode": {
    "name": "ipython",
    "version": 3
   },
   "file_extension": ".py",
   "mimetype": "text/x-python",
   "name": "python",
   "nbconvert_exporter": "python",
   "pygments_lexer": "ipython3",
   "version": "3.9.13"
  }
 },
 "nbformat": 4,
 "nbformat_minor": 5
}
